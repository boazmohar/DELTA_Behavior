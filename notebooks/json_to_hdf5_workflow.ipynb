{
 "cells": [
  {
   "cell_type": "markdown",
   "id": "bc39e8d4",
   "metadata": {},
   "source": [
    "\n",
    "# JSON to HDF5 Workflow\n",
    "\n",
    "This notebook walks through converting Unity behavioral JSON logs to HDF5 using `behavioral_analysis.processing.json_to_hdf5_processor`.\n"
   ]
  },
  {
   "cell_type": "code",
   "execution_count": null,
   "id": "201f9ec9",
   "metadata": {},
   "outputs": [],
   "source": [
    "\n",
    "from pathlib import Path\n",
    "import sys\n",
    "\n",
    "REPO_ROOT = Path.cwd().resolve()\n",
    "SRC_CANDIDATES = [\n",
    "    REPO_ROOT / 'src',\n",
    "    REPO_ROOT.parent / 'src',\n",
    "    (REPO_ROOT / '..' / 'src').resolve(),\n",
    "]\n",
    "\n",
    "for candidate in SRC_CANDIDATES:\n",
    "    if candidate.exists():\n",
    "        src_path = candidate.resolve()\n",
    "        break\n",
    "else:\n",
    "    raise RuntimeError('Could not locate the package src directory. Update the path setup cell.')\n",
    "\n",
    "if str(src_path) not in sys.path:\n",
    "    sys.path.insert(0, str(src_path))\n",
    "\n",
    "print(f'Added {src_path} to sys.path')\n"
   ]
  },
  {
   "cell_type": "markdown",
   "id": "dbeade81",
   "metadata": {},
   "source": [
    "## Imports\n",
    "Load the processing helpers we'll use in this workflow."
   ]
  },
  {
   "cell_type": "code",
   "execution_count": null,
   "id": "d7962014",
   "metadata": {},
   "outputs": [],
   "source": [
    "\n",
    "import json\n",
    "from pathlib import Path\n",
    "\n",
    "import pandas as pd\n",
    "\n",
    "from behavioral_analysis.processing.json_to_hdf5_processor import process_json_to_hdf5\n",
    "from behavioral_analysis.io.hdf5_writer import list_hdf5_contents\n"
   ]
  },
  {
   "cell_type": "markdown",
   "id": "5235cf33",
   "metadata": {},
   "source": [
    "\n",
    "## Choose a JSON log\n",
    "Set `JSON_PATH` to the Unity log you want to convert. If the path does not exist, a compact demo dataset is generated so you can run through the workflow end-to-end.\n"
   ]
  },
  {
   "cell_type": "code",
   "execution_count": null,
   "id": "501de41f",
   "metadata": {},
   "outputs": [],
   "source": [
    "JSON_PATH = Path('/groups/spruston/home/moharb/DELTA_Behavior/Log BM35 2025-09-22 session 1.json')\n",
    "CUE_WINDOW_HALF_WIDTH_CM = 10.0\n",
    "\n",
    "if JSON_PATH.exists():\n",
    "    print(f'Using JSON log: {JSON_PATH}')\n",
    "else:\n",
    "    print('JSON_PATH does not exist; creating a synthetic demo dataset.')\n",
    "    \n"
   ]
  },
  {
   "cell_type": "markdown",
   "id": "969a6f60",
   "metadata": {},
   "source": [
    "\n",
    "## Run the conversion\n",
    "The helper wraps the full pipeline: parsing the JSON, building pandas DataFrames, detecting corridors, optionally generating trial summaries, and writing everything to HDF5.\n"
   ]
  },
  {
   "cell_type": "code",
   "execution_count": null,
   "id": "6ea48081",
   "metadata": {},
   "outputs": [],
   "source": [
    "OUTPUT_DIR = Path('outputs')\n",
    "OUTPUT_DIR.mkdir(parents=True, exist_ok=True)\n",
    "\n",
    "OUTPUT_PATH = OUTPUT_DIR / f\"{JSON_PATH.stem}_with_global_position.h5\"\n",
    "\n",
    "result_path = process_json_to_hdf5(\n",
    "    input_file=str(JSON_PATH),\n",
    "    output_file=str(OUTPUT_PATH),\n",
    "    corridor_length_cm=500.0,\n",
    "    include_trials=True,\n",
    "    include_combined=False,\n",
    "    verbose=True,\n",
    "    cue_window_half_width_cm=CUE_WINDOW_HALF_WIDTH_CM,\n",
    ")\n",
    "print(f'Processed HDF5 saved to: {result_path}')\n"
   ]
  },
  {
   "cell_type": "markdown",
   "id": "8b0c4466",
   "metadata": {},
   "source": [
    "\n",
    "## Inspect the HDF5 contents\n",
    "Use the I/O helpers or pandas directly to see what was stored.\n"
   ]
  },
  {
   "cell_type": "code",
   "execution_count": null,
   "id": "10ce23b3",
   "metadata": {},
   "outputs": [],
   "source": [
    "\n",
    "contents = list_hdf5_contents(result_path)\n",
    "contents\n"
   ]
  },
  {
   "cell_type": "markdown",
   "id": "2f63c349",
   "metadata": {},
   "source": [
    "\n",
    "## Preview key tables\n",
    "Here we look at the position trace with the derived global position and any trials that were generated.\n"
   ]
  },
  {
   "cell_type": "code",
   "execution_count": null,
   "id": "69ff93d4",
   "metadata": {},
   "outputs": [],
   "source": [
    "with pd.HDFStore(result_path, mode='r') as store:\n",
    "    position_preview = store['events/Position'].head()\n",
    "    corridor_info = store['events/Corridor_Info']\n",
    "    trials = store.get('events/Trials')\n",
    "    lick_positions = store.get('events/Lick_Position')\n",
    "    lick_windows = store.get('events/Lick_Cue_Window')\n",
    "\n",
    "trial_preview = trials.head() if trials is not None else 'No trials table found'\n",
    "lick_pos_preview = lick_positions.head() if lick_positions is not None else 'No lick position table found'\n",
    "lick_win_preview = lick_windows.head() if lick_windows is not None else 'No lick window table found'\n",
    "\n",
    "position_preview, trial_preview, lick_pos_preview, lick_win_preview\n"
   ]
  },
  {
   "cell_type": "code",
   "execution_count": null,
   "id": "3731b75d",
   "metadata": {},
   "outputs": [],
   "source": [
    "corridor_info"
   ]
  },
  {
   "cell_type": "code",
   "execution_count": null,
   "id": "efe87f6b",
   "metadata": {},
   "outputs": [],
   "source": [
    "if 'lick_windows' in globals() and lick_windows is not None:\n",
    "    lick_windows[['trial_id', 'cue_global_position_cm', 'global_position_cm', 'lick_offset_from_cue_cm']].head()\n",
    "else:\n",
    "    'No lick window table found'\n"
   ]
  }
 ],
 "metadata": {
  "kernelspec": {
   "display_name": "base",
   "language": "python",
   "name": "python3"
  },
  "language_info": {
   "codemirror_mode": {
    "name": "ipython",
    "version": 3
   },
   "file_extension": ".py",
   "mimetype": "text/x-python",
   "name": "python",
   "nbconvert_exporter": "python",
   "pygments_lexer": "ipython3",
   "version": "3.9.9"
  }
 },
 "nbformat": 4,
 "nbformat_minor": 5
}
