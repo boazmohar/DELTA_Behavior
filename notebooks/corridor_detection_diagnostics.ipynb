{
 "cells": [
  {
   "cell_type": "markdown",
   "id": "a09f8703",
   "metadata": {},
   "source": [
    "# Corridor Detection Diagnostics"
   ]
  },
  {
   "cell_type": "code",
   "execution_count": null,
   "id": "b48f4b65",
   "metadata": {},
   "outputs": [],
   "source": [
    "\n",
    "from pathlib import Path\n",
    "import sys\n",
    "\n",
    "REPO_ROOT = Path.cwd().resolve()\n",
    "SRC_PATH = REPO_ROOT / \"src\"\n",
    "if str(SRC_PATH) not in sys.path:\n",
    "    sys.path.insert(0, str(SRC_PATH))\n",
    "\n",
    "print(f\"Using src path: {SRC_PATH}\")\n"
   ]
  },
  {
   "cell_type": "code",
   "execution_count": null,
   "id": "fe0d0579",
   "metadata": {},
   "outputs": [],
   "source": [
    "\n",
    "import pandas as pd\n",
    "import matplotlib.pyplot as plt\n",
    "\n",
    "from behavioral_analysis.io.json_parser import parse_json_file\n",
    "from behavioral_analysis.io.dataframe_builder import extract_events_by_type\n",
    "from behavioral_analysis.processing import (\n",
    "    compute_corridor_artifacts,\n",
    ")\n",
    "\n",
    "plt.style.use('seaborn-v0_8')\n",
    "\n",
    "from IPython.display import display"
   ]
  },
  {
   "cell_type": "code",
   "execution_count": null,
   "id": "74765054",
   "metadata": {},
   "outputs": [],
   "source": [
    "\n",
    "JSON_PATH = Path('/groups/spruston/home/moharb/DELTA_Behavior/Log BM35 2025-09-22 session 1.json')\n",
    "\n",
    "if not JSON_PATH.exists():\n",
    "    raise FileNotFoundError(f\"JSON log not found: {JSON_PATH}\")\n",
    "\n",
    "print(f'Loading events from: {JSON_PATH.name}')\n",
    "\n",
    "raw_events = parse_json_file(JSON_PATH, verbose=False)\n",
    "frames = extract_events_by_type(raw_events, verbose=False)\n",
    "\n",
    "print(f\"Total events: {len(raw_events):,}\")\n",
    "print(f\"Available event types: {sorted(frames.keys())}\")\n"
   ]
  },
  {
   "cell_type": "code",
   "execution_count": null,
   "id": "63b5bba0",
   "metadata": {},
   "outputs": [],
   "source": [
    "\n",
    "artifacts = compute_corridor_artifacts(\n",
    "    cue_state_df=frames.get('Cue State'),\n",
    "    position_df=frames.get('Path Position'),\n",
    "    cue_result_df=frames.get('Cue Result'),\n",
    "    verbose=False,\n",
    ")\n",
    "\n",
    "corridor_info = artifacts.corridor_info\n",
    "cue_matches = artifacts.cue_matches\n",
    "position_loops = artifacts.position_loops\n",
    "\n",
    "print(f\"Corridors detected: {len(corridor_info)}\")\n",
    "print(f\"Position loops: {len(position_loops)}\")\n",
    "print(f\"Matched cues: {0 if cue_matches is None else len(cue_matches)}\")\n",
    "\n",
    "corridor_info.head()\n"
   ]
  },
  {
   "cell_type": "code",
   "execution_count": null,
   "id": "ee6c10c2",
   "metadata": {},
   "outputs": [],
   "source": [
    "\n",
    "if cue_matches is not None:\n",
    "    cue_matches.head()\n",
    "else:\n",
    "    print('Cue match table is empty.')\n"
   ]
  },
  {
   "cell_type": "code",
   "execution_count": null,
   "id": "6802eef0",
   "metadata": {},
   "outputs": [],
   "source": [
    "\n",
    "path_position_df = frames.get('Path Position')\n",
    "cue_results_df = artifacts.cue_result_with_corridors\n",
    "\n",
    "if path_position_df is not None and not corridor_info.empty and cue_results_df is not None:\n",
    "    corridor_id = 0\n",
    "    loop = corridor_info[corridor_info['corridor_id'] == corridor_id].iloc[0]\n",
    "\n",
    "    mask = (path_position_df['time'] >= loop['start_time']) & (path_position_df['time'] <= loop['end_time'])\n",
    "    subset = path_position_df.loc[mask, ['time', 'position']].copy()\n",
    "    subset['time_seconds'] = subset['time'] / 1000.0\n",
    "\n",
    "    fig, ax = plt.subplots(figsize=(10, 4))\n",
    "    ax.plot(subset['time_seconds'], subset['position'], color='steelblue', linewidth=1.5)\n",
    "\n",
    "    hits = cue_results_df[cue_results_df['corridor_id'] == corridor_id]\n",
    "    if not hits.empty:\n",
    "        ax.vlines(hits['time'] / 1000.0, ymin=subset['position'].min(), ymax=subset['position'].max(),\n",
    "                  colors='tomato', linestyles='--', alpha=0.6, label='Cue hits')\n",
    "\n",
    "    ax.set_xlabel('Time (s)')\n",
    "    ax.set_ylabel('Path position (a.u.)')\n",
    "    ax.set_title(f'Corridor {corridor_id}: path trajectory with cue hits')\n",
    "    ax.legend()\n",
    "    plt.tight_layout()\n",
    "    plt.show()\n",
    "else:\n",
    "    print('Not enough data to visualize the first corridor.')\n"
   ]
  },
  {
   "cell_type": "code",
   "execution_count": null,
   "id": "4ec5663e",
   "metadata": {},
   "outputs": [],
   "source": [
    "\n",
    "summary_cols = [\n",
    "    'corridor_id',\n",
    "    'start_time',\n",
    "    'end_time',\n",
    "    'num_cue_results',\n",
    "    'num_matched_cues',\n",
    "    'loop_complete',\n",
    "]\n",
    "\n",
    "if not corridor_info.empty:\n",
    "    display(corridor_info[summary_cols].head(12))\n",
    "else:\n",
    "    print('Corridor summary unavailable.')\n"
   ]
  }
 ],
 "metadata": {},
 "nbformat": 4,
 "nbformat_minor": 5
}
