{
 "cells": [
  {
   "cell_type": "markdown",
   "id": "c97b5ea1",
   "metadata": {},
   "source": [
    "# JSON Cue & Lick Explorer\n",
    "\n",
    "Inspect cue windows, licking behaviour, and trial outcomes for DELTA sessions without\n",
    "wiring every processing step inside the notebook."
   ]
  },
  {
   "cell_type": "markdown",
   "id": "fa3b2a3e",
   "metadata": {},
   "source": [
    "## Workflow\n",
    "1. Configure which JSON log to analyse and the cue window size.\n",
    "2. Run the loader cell to build session artefacts using the processing pipeline.\n",
    "3. Review trial/lick summaries and use the plots to inspect behaviour across time or corridors."
   ]
  },
  {
   "cell_type": "code",
   "execution_count": null,
   "id": "e5073032",
   "metadata": {},
   "outputs": [],
   "source": [
    "from pathlib import Path\n",
    "import sys\n",
    "\n",
    "import pandas as pd\n",
    "\n",
    "# Make sure the repository src/ directory is importable whether the kernel started in the repo\n",
    "NOTEBOOK_DIR = Path.cwd().resolve()\n",
    "if (NOTEBOOK_DIR / \"src\").exists():\n",
    "    REPO_ROOT = NOTEBOOK_DIR\n",
    "else:\n",
    "    REPO_ROOT = NOTEBOOK_DIR.parent\n",
    "\n",
    "SRC_PATH = REPO_ROOT / \"src\"\n",
    "if str(SRC_PATH) not in sys.path:\n",
    "    sys.path.insert(0, str(SRC_PATH))\n",
    "\n",
    "from behavioral_analysis.visualization.cue_lick_explorer import (\n",
    "    SessionArtifacts,\n",
    "    load_session_artifacts,\n",
    "    build_trial_summary,\n",
    "    build_lick_summary,\n",
    "    plot_trial_overview,\n",
    "    plot_lick_offset_histogram,\n",
    ")\n"
   ]
  },
  {
   "cell_type": "code",
   "execution_count": null,
   "id": "057f7d18",
   "metadata": {},
   "outputs": [],
   "source": [
    "# --- Session configuration ------------------------------------------------------------\n",
    "JSON_PATH = (REPO_ROOT / \"Log BM35 2025-09-22 session 1.json\").resolve()\n",
    "CORRIDOR_LENGTH_CM = 500.0\n",
    "CUE_WINDOW_HALF_WIDTH_CM = 10.0\n",
    "TIMELINE_X_AXIS = \"time\"  # \"time\" or \"corridor\"\n",
    "VERBOSE = False\n",
    "\n",
    "available_logs = sorted(REPO_ROOT.glob(\"Log *.json\"))\n",
    "print(f\"Found {len(available_logs)} JSON log(s) under {REPO_ROOT}\")\n",
    "for path in available_logs[:8]:\n",
    "    print(\" -\", path.relative_to(REPO_ROOT))\n",
    "if len(available_logs) > 8:\n",
    "    print(\"   … (use available_logs to inspect the rest)\")\n",
    "\n",
    "JSON_PATH"
   ]
  },
  {
   "cell_type": "code",
   "execution_count": null,
   "id": "b2197a3b",
   "metadata": {},
   "outputs": [],
   "source": [
    "session = load_session_artifacts(\n",
    "    JSON_PATH,\n",
    "    corridor_length_cm=CORRIDOR_LENGTH_CM,\n",
    "    cue_window_half_width_cm=CUE_WINDOW_HALF_WIDTH_CM,\n",
    "    verbose=VERBOSE,\n",
    ")\n",
    "\n",
    "print(f\"Corridors detected: {session.corridor_info['corridor_id'].nunique() if not session.corridor_info.empty else 0}\")\n",
    "print(f\"Trials created: {len(session.trials)}\")\n",
    "\n",
    "print(f\"Lick events with position: {len(session.alignment.licks_with_position)}\")\n",
    "print(f\"Licks inside cue windows: {len(session.alignment.licks_with_trial)}\")\n",
    "\n",
    "display(session.event_counts.to_frame(name=\"count\"))\n"
   ]
  },
  {
   "cell_type": "code",
   "execution_count": null,
   "id": "312624a7",
   "metadata": {},
   "outputs": [],
   "source": [
    "pd.set_option(\"display.max_rows\", 20)\n",
    "display(session.trials.head())\n",
    "\n",
    "trial_summary = build_trial_summary(session.trials)\n",
    "if trial_summary.empty:\n",
    "    print(\"No trial data available.\")\n",
    "else:\n",
    "    display(trial_summary)"
   ]
  },
  {
   "cell_type": "code",
   "execution_count": null,
   "id": "d7c3c9a2",
   "metadata": {},
   "outputs": [],
   "source": [
    "alignment = session.alignment\n",
    "\n",
    "print(f\"Cue window half-width: ±{session.cue_window_half_width_cm:g} cm\")\n",
    "display(alignment.trials.head())\n"
   ]
  },
  {
   "cell_type": "code",
   "execution_count": null,
   "id": "6f0dc272",
   "metadata": {},
   "outputs": [],
   "source": [
    "lick_summary = build_lick_summary(session.alignment.licks_with_trial)\n",
    "if lick_summary.empty:\n",
    "    print(\"No licks detected inside cue windows.\")\n",
    "else:\n",
    "    display(lick_summary)\n"
   ]
  },
  {
   "cell_type": "code",
   "execution_count": null,
   "id": "3f866a8a",
   "metadata": {},
   "outputs": [],
   "source": [
    "ax = plot_trial_overview(\n",
    "    session.trials,\n",
    "    session.alignment.licks_with_position,\n",
    "    cue_window_half_width_cm=session.cue_window_half_width_cm,\n",
    "    x_axis=TIMELINE_X_AXIS,\n",
    ")\n",
    "ax.figure\n"
   ]
  },
  {
   "cell_type": "code",
   "execution_count": null,
   "id": "351c6db9",
   "metadata": {},
   "outputs": [],
   "source": [
    "ax = plot_lick_offset_histogram(session.alignment.licks_with_trial)\n",
    "ax.figure\n"
   ]
  }
 ],
 "metadata": {},
 "nbformat": 4,
 "nbformat_minor": 5
}