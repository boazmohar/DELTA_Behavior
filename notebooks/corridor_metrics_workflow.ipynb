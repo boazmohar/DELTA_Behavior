{
 "cells": [
  {
   "cell_type": "markdown",
   "id": "e9f9056d",
   "metadata": {},
   "source": [
    "# Corridor Metrics Workflow\n",
    "\n",
    "This notebook demonstrates how to compute cue hit rates and lick densities as a function of corridor position using the reusable helpers in `behavioral_analysis.analysis.corridor_metrics`."
   ]
  },
  {
   "cell_type": "markdown",
   "id": "ba37b62e",
   "metadata": {},
   "source": [
    "## Setup\n",
    "The workflow below assumes you have Unity log exports (JSON files) in the root of the repository. Update `LOG_PATH` in the next cell to point to the log you want to analyse. If the path does not exist, a small synthetic dataset is generated so you can still run through the example."
   ]
  },
  {
   "cell_type": "code",
   "execution_count": null,
   "id": "3945d51d",
   "metadata": {},
   "outputs": [],
   "source": [
    "from pathlib import Path\n",
    "import sys\n",
    "\n",
    "REPO_ROOT = Path.cwd()\n",
    "SRC_CANDIDATES = [\n",
    "    REPO_ROOT / 'src',\n",
    "    REPO_ROOT.parent / 'src',\n",
    "    (REPO_ROOT / '..' / 'src').resolve(),\n",
    "]\n",
    "\n",
    "for candidate in SRC_CANDIDATES:\n",
    "    if candidate.exists():\n",
    "        src_path = candidate.resolve()\n",
    "        break\n",
    "else:\n",
    "    raise RuntimeError('Could not locate the package src directory. Update the path setup cell.')\n",
    "\n",
    "if str(src_path) not in sys.path:\n",
    "    sys.path.insert(0, str(src_path))\n",
    "\n",
    "print(f'Added {src_path} to sys.path')"
   ]
  },
  {
   "cell_type": "code",
   "execution_count": null,
   "id": "c5092c64",
   "metadata": {},
   "outputs": [],
   "source": [
    "from pathlib import Path\n",
    "\n",
    "import pandas as pd\n",
    "import matplotlib.pyplot as plt\n",
    "\n",
    "from behavioral_analysis.analysis import (\n",
    "    compute_hit_rates_by_position,\n",
    "    compute_lick_rates_by_position,\n",
    "    load_log_entries,\n",
    ")\n"
   ]
  },
  {
   "cell_type": "markdown",
   "id": "b7309a20",
   "metadata": {},
   "source": [
    "### Load log entries"
   ]
  },
  {
   "cell_type": "code",
   "execution_count": null,
   "id": "8d9f3a20",
   "metadata": {},
   "outputs": [],
   "source": [
    "LOG_PATH = Path(\"/groups/spruston/home/moharb/DELTA_Behavior/Log BM35 2025-09-22 session 1.json\")\n",
    "\n",
    "if LOG_PATH.exists():\n",
    "    entries = load_log_entries(LOG_PATH)\n",
    "    print(f\"Loaded {len(entries)} log entries from {LOG_PATH.name}\")\n",
    "else:\n",
    "    print(\"LOG_PATH does not exist; using synthetic demo data.\")\n",
    "    entries = [\n",
    "        {\"msg\": \"Path Position\", \"data\": {\"position\": 120}},\n",
    "        {\"msg\": \"Cue Result\", \"data\": {\"position\": 150, \"hasGivenReward\": True}},\n",
    "        {\"msg\": \"Path Position\", \"data\": {\"position\": 1120}},\n",
    "        {\"msg\": \"Cue Result\", \"data\": {\"position\": 1180, \"hasGivenReward\": False}},\n",
    "        {\"msg\": \"Cue Result\", \"data\": {\"position\": 1250, \"hasGivenReward\": True}},\n",
    "        {\"msg\": \"Path Position\", \"data\": {\"position\": 2120}},\n",
    "        {\"msg\": \"Cue Result\", \"data\": {\"position\": 2140, \"hasGivenReward\": True}},\n",
    "        {\"msg\": \"Cue Result\", \"data\": {\"position\": 2250, \"hasGivenReward\": False}},\n",
    "        {\"msg\": \"Path Position\", \"data\": {\"position\": 2300}},\n",
    "        {\"msg\": \"Lick\"},\n",
    "        {\"msg\": \"Path Position\", \"data\": {\"position\": 2450}},\n",
    "        {\"msg\": \"Lick\"},\n",
    "        {\"msg\": \"Lick\"},\n",
    "        {\"msg\": \"Path Position\", \"data\": {\"position\": 3120}},\n",
    "        {\"msg\": \"Lick\"},\n",
    "    ]\n"
   ]
  },
  {
   "cell_type": "markdown",
   "id": "a89b5968",
   "metadata": {},
   "source": [
    "## Hit rate by corridor position\n",
    "Choose a bin size that matches the resolution you care about. The default used in the original script was 1000 corridor units."
   ]
  },
  {
   "cell_type": "code",
   "execution_count": null,
   "id": "1979eff5",
   "metadata": {},
   "outputs": [],
   "source": [
    "hit_bin_size = 1000\n",
    "\n",
    "hit_bins = compute_hit_rates_by_position(entries, bin_size=hit_bin_size)\n",
    "hit_df = pd.DataFrame([\n",
    "    {\"bin_start\": bin_stats.bin_start,\n",
    "     \"hits\": bin_stats.hits,\n",
    "     \"total\": bin_stats.total,\n",
    "     \"hit_rate\": bin_stats.hit_rate}\n",
    "    for bin_stats in hit_bins\n",
    "])\n",
    "hit_df"
   ]
  },
  {
   "cell_type": "code",
   "execution_count": null,
   "id": "06c0eb49",
   "metadata": {},
   "outputs": [],
   "source": [
    "if not hit_df.empty:\n",
    "    fig, ax = plt.subplots(figsize=(8, 4))\n",
    "    ax.plot(hit_df['bin_start'], hit_df['hit_rate'], marker='o', linewidth=1.5)\n",
    "    ax.set_xlabel('Original corridor position (bin start)')\n",
    "    ax.set_ylabel('Hit rate')\n",
    "    ax.set_ylim(0, 1)\n",
    "    ax.grid(True, linestyle='--', alpha=0.4)\n",
    "    plt.show()\n",
    "else:\n",
    "    print('No hit bins available. Check that the log contains cue results.')\n"
   ]
  },
  {
   "cell_type": "markdown",
   "id": "86f54045",
   "metadata": {},
   "source": [
    "## Lick density by corridor position\n",
    "For lick rate we typically use a finer spatial resolution."
   ]
  },
  {
   "cell_type": "code",
   "execution_count": null,
   "id": "5b8c33b9",
   "metadata": {},
   "outputs": [],
   "source": [
    "lick_bin_size = 200\n",
    "\n",
    "lick_bins = compute_lick_rates_by_position(entries, bin_size=lick_bin_size)\n",
    "lick_df = pd.DataFrame([\n",
    "    {\"bin_start\": bin_stats.bin_start,\n",
    "     \"bin_end\": bin_stats.bin_end,\n",
    "     \"lick_count\": bin_stats.lick_count,\n",
    "     \"lick_rate_per_unit\": bin_stats.lick_rate_per_unit}\n",
    "    for bin_stats in lick_bins\n",
    "])\n",
    "lick_df"
   ]
  },
  {
   "cell_type": "code",
   "execution_count": null,
   "id": "3adc4915",
   "metadata": {},
   "outputs": [],
   "source": [
    "if not lick_df.empty:\n",
    "    fig, ax = plt.subplots(figsize=(8, 4))\n",
    "    ax.bar(lick_df['bin_start'], lick_df['lick_rate_per_unit'], width=lick_bin_size, align='edge')\n",
    "    ax.set_xlabel('Original corridor position (bin start)')\n",
    "    ax.set_ylabel('Licks per corridor unit')\n",
    "    ax.set_title('Lick density by corridor position')\n",
    "    plt.show()\n",
    "else:\n",
    "    print('No lick bins available. Ensure the log includes path and lick events.')\n"
   ]
  },
  {
   "cell_type": "markdown",
   "id": "a0d41903",
   "metadata": {},
   "source": [
    "## Export results (optional)\n",
    "You can replicate the behaviour of the original scripts by writing the results to TSV files.\n"
   ]
  },
  {
   "cell_type": "code",
   "execution_count": null,
   "id": "bc25747a",
   "metadata": {},
   "outputs": [],
   "source": [
    "output_prefix = LOG_PATH.with_suffix('') if LOG_PATH.exists() else Path('demo_output')\n",
    "\n",
    "hit_output = output_prefix.with_name(f'{output_prefix.stem}_hit_rate_by_position.tsv')\n",
    "lick_output = output_prefix.with_name(f'{output_prefix.stem}_lick_rate_by_position.tsv')\n",
    "\n",
    "if not hit_df.empty:\n",
    "    hit_df.to_csv(hit_output, sep='\t', index=False)\n",
    "    print(f'Hit-rate table saved to {hit_output}')\n",
    "if not lick_df.empty:\n",
    "    lick_df.to_csv(lick_output, sep='\t', index=False)\n",
    "    print(f'Lick-rate table saved to {lick_output}')\n"
   ]
  }
 ],
 "metadata": {
  "kernelspec": {
   "display_name": "Python 3",
   "name": "python3"
  },
  "language_info": {
   "name": "python",
   "pygments_lexer": "ipython3"
  }
 },
 "nbformat": 4,
 "nbformat_minor": 5
}
